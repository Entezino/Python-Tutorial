{
 "cells": [
  {
   "cell_type": "markdown",
   "id": "5f0db2d8",
   "metadata": {},
   "source": [
    "## Python OOPs Exercise \n"
   ]
  },
  {
   "cell_type": "markdown",
   "id": "f76d3fae",
   "metadata": {},
   "source": [
    "### Exercise 1: Create a class Greeter with a method greet(name) that prints a greeting for the provided name.\n"
   ]
  },
  {
   "cell_type": "code",
   "execution_count": 1,
   "id": "cd8ca2ad",
   "metadata": {},
   "outputs": [
    {
     "name": "stdout",
     "output_type": "stream",
     "text": [
      "Hello, Sara!\n"
     ]
    }
   ],
   "source": [
    "class Greeter:\n",
    "    def __init__(self, name):\n",
    "        self.name = name\n",
    "\n",
    "    def greeting(self):\n",
    "        print(f'Hello, {self.name}!')\n",
    "\n",
    "g = Greeter('Sara')\n",
    "\n",
    "g.greeting()"
   ]
  },
  {
   "cell_type": "markdown",
   "id": "5039f618",
   "metadata": {},
   "source": [
    "### Exercise 2: Develop a class Calculator with methods to add and subtract two numbers.\n",
    "\n",
    "\n",
    "\n"
   ]
  },
  {
   "cell_type": "code",
   "execution_count": 6,
   "id": "583620b2",
   "metadata": {},
   "outputs": [
    {
     "data": {
      "text/plain": [
       "7"
      ]
     },
     "execution_count": 6,
     "metadata": {},
     "output_type": "execute_result"
    }
   ],
   "source": [
    "class Calculator:\n",
    "    \n",
    "    def add(self, a, b):\n",
    "        return a + b\n",
    "    \n",
    "    def subtract(self, a, b):\n",
    "        return a - b\n",
    "    \n",
    "\n",
    "calc = Calculator()\n",
    "\n",
    "calc.add(15, 8)\n",
    "calc.subtract(15, 8)    "
   ]
  },
  {
   "cell_type": "markdown",
   "id": "c8a5937f",
   "metadata": {},
   "source": [
    "### Exercise 3: Build a class Employee with multiple constructors that can initialize an employee object in different ways."
   ]
  },
  {
   "cell_type": "code",
   "execution_count": 8,
   "id": "d3477363",
   "metadata": {},
   "outputs": [
    {
     "name": "stdout",
     "output_type": "stream",
     "text": [
      "Name: John\n",
      "----------------\n",
      "Name: Doe\n",
      "ID: 101\n",
      "----------------\n",
      "Name: Jane\n",
      "ID: 102\n",
      "Department: HR\n"
     ]
    }
   ],
   "source": [
    "class Employee:\n",
    "    \n",
    "    def __init__(self, name, id= None, department= None):\n",
    "        self.name = name\n",
    "        self.id = id\n",
    "        self.department = department\n",
    "    \n",
    "    def display_info(self):\n",
    "        print(f\"Name: {self.name}\")\n",
    "        if self.id:\n",
    "            print(f\"ID: {self.id}\")\n",
    "        if self.department:\n",
    "            print(f\"Department: {self.department}\")\n",
    "\n",
    "emp1 = Employee(\"John\")\n",
    "emp1.display_info()\n",
    "\n",
    "print('----------------')\n",
    "\n",
    "emp2 = Employee(\"Doe\", 101)\n",
    "emp2.display_info()\n",
    "\n",
    "print('----------------')\n",
    "\n",
    "\n",
    "emp3 = Employee(\"Jane\", 102, \"HR\")\n",
    "emp3.display_info()"
   ]
  },
  {
   "cell_type": "markdown",
   "id": "e95cdefe",
   "metadata": {},
   "source": [
    "### Exercise 4: Design a class SeriesCalculator that calculates the sum of an arithmetic series.\n",
    "\n",
    "\n",
    "\n"
   ]
  },
  {
   "cell_type": "code",
   "execution_count": 3,
   "id": "4a1b1a46",
   "metadata": {},
   "outputs": [
    {
     "name": "stdout",
     "output_type": "stream",
     "text": [
      "Sum of series: 25\n"
     ]
    }
   ],
   "source": [
    "class SeriesCalculator:\n",
    "    \n",
    "    def calculate_sum(self, n, a = 1 , d = 2):\n",
    "        return n * (2*a + (n-1) * d) // 2\n",
    "    \n",
    "series = SeriesCalculator()\n",
    "\n",
    "print(\"Sum of series:\", series.calculate_sum(5))"
   ]
  },
  {
   "cell_type": "markdown",
   "id": "afc2df84",
   "metadata": {},
   "source": [
    "### Exercise 5: Create a class MaxFinder that identifies the largest number in a list.\n",
    "\n",
    "\n",
    "\n"
   ]
  },
  {
   "cell_type": "code",
   "execution_count": 4,
   "id": "6077fddc",
   "metadata": {},
   "outputs": [
    {
     "name": "stdout",
     "output_type": "stream",
     "text": [
      "The largest number is: 534\n"
     ]
    }
   ],
   "source": [
    "class MaxFinder:\n",
    "    \n",
    "    def __init__(self, numbers = None):\n",
    "        self.numbers = numbers\n",
    "\n",
    "    def find_max(self):\n",
    "        if self.numbers:\n",
    "            return max(self.numbers)\n",
    "        else:\n",
    "            return 'List is empty'\n",
    "\n",
    "mxfinder = MaxFinder([1,2,5,23,12,534])\n",
    "\n",
    "print(\"The largest number is:\", mxfinder.find_max())"
   ]
  },
  {
   "cell_type": "markdown",
   "id": "d79108f3",
   "metadata": {},
   "source": [
    "### Exercise 6: Design a Rectangle class with default attributes for length and width set to 1. Include methods to set these attributes and calculate the area."
   ]
  },
  {
   "cell_type": "code",
   "execution_count": 6,
   "id": "c2b66246",
   "metadata": {},
   "outputs": [
    {
     "name": "stdout",
     "output_type": "stream",
     "text": [
      "Default area: 1\n",
      "Updated area: 20\n"
     ]
    }
   ],
   "source": [
    "class Rectangle:\n",
    "    \n",
    "    def __init__(self, length =1, width = 1):\n",
    "        self.length = length\n",
    "        self.width = width\n",
    "\n",
    "    def set_dims(self, length, width):\n",
    "        self.length = length\n",
    "        self.width = width\n",
    "\n",
    "    def area(self):\n",
    "        return self.length * self.width\n",
    "    \n",
    "\n",
    "rect = Rectangle()\n",
    "print(\"Default area:\", rect.area())\n",
    "rect.set_dims(4, 5)\n",
    "print(\"Updated area:\", rect.area())\n",
    "        "
   ]
  },
  {
   "cell_type": "markdown",
   "id": "74450133",
   "metadata": {},
   "source": [
    "### Exercise 7: Person Class with __str__ Method: Create a Person class with first and last name attributes and override the __str__ method to return the full name."
   ]
  },
  {
   "cell_type": "code",
   "execution_count": 7,
   "id": "9432f939",
   "metadata": {},
   "outputs": [
    {
     "name": "stdout",
     "output_type": "stream",
     "text": [
      "Sara Zaeim\n"
     ]
    }
   ],
   "source": [
    "class Person:\n",
    "\n",
    "    def __init__(self, fname, lname):\n",
    "        self.fname = fname\n",
    "        self.lname = lname\n",
    "\n",
    "    def __str__(self):\n",
    "        return f'{self.fname} {self.lname}'\n",
    "    \n",
    "person = Person('Sara', 'Zaeim')\n",
    "print(person)\n",
    "        "
   ]
  }
 ],
 "metadata": {
  "kernelspec": {
   "display_name": "Python 3",
   "language": "python",
   "name": "python3"
  },
  "language_info": {
   "codemirror_mode": {
    "name": "ipython",
    "version": 3
   },
   "file_extension": ".py",
   "mimetype": "text/x-python",
   "name": "python",
   "nbconvert_exporter": "python",
   "pygments_lexer": "ipython3",
   "version": "3.13.0"
  }
 },
 "nbformat": 4,
 "nbformat_minor": 5
}
